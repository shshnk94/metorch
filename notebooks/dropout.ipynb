{
 "cells": [
  {
   "cell_type": "code",
   "execution_count": 2,
   "id": "bfcd16e6-2eef-49f4-bf95-84f23cb0d43a",
   "metadata": {
    "execution": {
     "iopub.execute_input": "2022-09-10T18:14:17.890991Z",
     "iopub.status.busy": "2022-09-10T18:14:17.890788Z",
     "iopub.status.idle": "2022-09-10T18:14:17.895438Z",
     "shell.execute_reply": "2022-09-10T18:14:17.894695Z",
     "shell.execute_reply.started": "2022-09-10T18:14:17.890968Z"
    }
   },
   "outputs": [],
   "source": [
    "config = {\n",
    "    'mode': 'train',\n",
    "    'use_ray': False,\n",
    "    'results_dir': '/notebooks/outputs',\n",
    "    'model': 'dropout_net',\n",
    "    'batch_size': 128,\n",
    "    'epochs': 50,\n",
    "    'lr': 0.0001,\n",
    "    'momentum': 0.99,\n",
    "    'max_norm_constraint': 3,\n",
    "    'drop_prob': 0.5}"
   ]
  },
  {
   "cell_type": "code",
   "execution_count": 3,
   "id": "4122091f-3244-44df-be80-acb589e4c610",
   "metadata": {
    "execution": {
     "iopub.execute_input": "2022-09-10T17:39:26.772705Z",
     "iopub.status.busy": "2022-09-10T17:39:26.772415Z",
     "iopub.status.idle": "2022-09-10T17:41:30.358261Z",
     "shell.execute_reply": "2022-09-10T17:41:30.356870Z",
     "shell.execute_reply.started": "2022-09-10T17:39:26.772680Z"
    }
   },
   "outputs": [
    {
     "name": "stderr",
     "output_type": "stream",
     "text": [
      "2022-09-10 17:39:28,784\tWARNING utils.py:607 -- Ray currently does not support initializing Raywith fractional cpus. Your num_cpus will be truncated from 5.985 to 5.\n",
      "2022-09-10 17:39:28,944\tINFO worker.py:1518 -- Started a local Ray instance.\n"
     ]
    },
    {
     "data": {
      "text/html": [
       "== Status ==<br>Current time: 2022-09-10 17:41:30 (running for 00:01:59.80)<br>Memory usage on this node: 7.8/29.4 GiB<br>Using FIFO scheduling algorithm.<br>Resources requested: 0/5 CPUs, 0/1 GPUs, 0.0/15.38 GiB heap, 0.0/7.69 GiB objects (0.0/1.0 accelerator_type:P5000)<br>Result logdir: /notebooks/outputs/TorchTrainer_2022-09-10_17-39-29<br>Number of trials: 1/1 (1 ERROR)<br><table>\n",
       "<thead>\n",
       "<tr><th>Trial name              </th><th>status  </th><th>loc              </th></tr>\n",
       "</thead>\n",
       "<tbody>\n",
       "<tr><td>TorchTrainer_86006_00000</td><td>ERROR   </td><td>10.42.90.206:2734</td></tr>\n",
       "</tbody>\n",
       "</table><br>Number of errored trials: 1<br><table>\n",
       "<thead>\n",
       "<tr><th>Trial name              </th><th style=\"text-align: right;\">  # failures</th><th>error file                                                                                                  </th></tr>\n",
       "</thead>\n",
       "<tbody>\n",
       "<tr><td>TorchTrainer_86006_00000</td><td style=\"text-align: right;\">           1</td><td>/notebooks/outputs/TorchTrainer_2022-09-10_17-39-29/TorchTrainer_86006_00000_0_2022-09-10_17-39-30/error.txt</td></tr>\n",
       "</tbody>\n",
       "</table><br>"
      ],
      "text/plain": [
       "<IPython.core.display.HTML object>"
      ]
     },
     "metadata": {},
     "output_type": "display_data"
    },
    {
     "name": "stderr",
     "output_type": "stream",
     "text": [
      "\u001b[2m\u001b[36m(RayTrainWorker pid=2768)\u001b[0m 2022-09-10 17:39:35,795\tINFO config.py:72 -- Setting up process group for: env:// [rank=0, world_size=1]\n"
     ]
    },
    {
     "name": "stdout",
     "output_type": "stream",
     "text": [
      "\u001b[2m\u001b[36m(RayTrainWorker pid=2768)\u001b[0m Downloading https://www.cs.toronto.edu/~kriz/cifar-10-python.tar.gz to ./data/cifar-10-python.tar.gz\n"
     ]
    },
    {
     "name": "stderr",
     "output_type": "stream",
     "text": [
      "  0%|          | 0/170498071 [00:00<?, ?it/s]\n",
      "  0%|          | 410624/170498071 [00:00<00:48, 3539740.31it/s]\n",
      "  3%|▎         | 5702656/170498071 [00:00<00:05, 30676640.76it/s]\n",
      "  5%|▌         | 8940544/170498071 [00:03<01:21, 1988738.79it/s] \n",
      "  8%|▊         | 13091840/170498071 [00:03<00:45, 3475909.52it/s]\n",
      " 10%|▉         | 16630784/170498071 [00:03<00:30, 5118245.26it/s]\n",
      " 11%|█▏        | 19488768/170498071 [00:06<01:08, 2218980.85it/s]\n",
      " 13%|█▎        | 21595136/170498071 [00:07<00:53, 2806619.55it/s]\n",
      " 15%|█▍        | 25154560/170498071 [00:07<00:34, 4207958.67it/s]\n",
      " 20%|█▉        | 33556480/170498071 [00:09<00:34, 3929896.23it/s]\n",
      " 23%|██▎       | 38700032/170498071 [00:09<00:23, 5611906.17it/s]\n",
      " 25%|██▌       | 43044864/170498071 [00:09<00:17, 7433632.02it/s]\n",
      " 32%|███▏      | 54051840/170498071 [00:09<00:08, 14038571.92it/s]\n",
      " 38%|███▊      | 63964160/170498071 [00:09<00:05, 21202052.07it/s]\n",
      " 42%|████▏     | 70901760/170498071 [00:11<00:11, 8347857.97it/s] \n",
      " 44%|████▍     | 75843584/170498071 [00:12<00:09, 9843278.61it/s]\n",
      " 50%|█████     | 86038528/170498071 [00:12<00:05, 15344406.33it/s]\n",
      " 63%|██████▎   | 108200960/170498071 [00:12<00:01, 31834496.90it/s]\n",
      " 70%|██████▉   | 119243776/170498071 [00:12<00:01, 41739888.99it/s]\n",
      " 77%|███████▋  | 130450432/170498071 [00:12<00:00, 52469803.76it/s]\n",
      " 83%|████████▎ | 141900800/170498071 [00:12<00:00, 63571686.36it/s]\n",
      " 90%|████████▉ | 153019392/170498071 [00:12<00:00, 73264914.65it/s]\n",
      " 96%|█████████▌| 163617792/170498071 [00:12<00:00, 80419187.54it/s]\n",
      "170499072it [00:12, 13133861.22it/s]                               \n"
     ]
    },
    {
     "name": "stdout",
     "output_type": "stream",
     "text": [
      "\u001b[2m\u001b[36m(RayTrainWorker pid=2768)\u001b[0m Extracting ./data/cifar-10-python.tar.gz to ./data\n"
     ]
    },
    {
     "name": "stderr",
     "output_type": "stream",
     "text": [
      "\u001b[2m\u001b[36m(RayTrainWorker pid=2768)\u001b[0m 2022-09-10 17:40:27,451\tINFO train_loop_utils.py:300 -- Moving model to device: cuda:0\n",
      "\u001b[2m\u001b[36m(TorchTrainer pid=2734)\u001b[0m 2022-09-10 17:41:29,908\tERROR function_trainable.py:298 -- Runner Thread raised error.\n",
      "\u001b[2m\u001b[36m(TorchTrainer pid=2734)\u001b[0m Traceback (most recent call last):\n",
      "\u001b[2m\u001b[36m(TorchTrainer pid=2734)\u001b[0m   File \"/opt/conda/lib/python3.7/site-packages/ray/tune/trainable/function_trainable.py\", line 289, in run\n",
      "\u001b[2m\u001b[36m(TorchTrainer pid=2734)\u001b[0m     self._entrypoint()\n",
      "\u001b[2m\u001b[36m(TorchTrainer pid=2734)\u001b[0m   File \"/opt/conda/lib/python3.7/site-packages/ray/tune/trainable/function_trainable.py\", line 365, in entrypoint\n",
      "\u001b[2m\u001b[36m(TorchTrainer pid=2734)\u001b[0m     self._status_reporter.get_checkpoint(),\n",
      "\u001b[2m\u001b[36m(TorchTrainer pid=2734)\u001b[0m   File \"/opt/conda/lib/python3.7/site-packages/ray/util/tracing/tracing_helper.py\", line 466, in _resume_span\n",
      "\u001b[2m\u001b[36m(TorchTrainer pid=2734)\u001b[0m     return method(self, *_args, **_kwargs)\n",
      "\u001b[2m\u001b[36m(TorchTrainer pid=2734)\u001b[0m   File \"/opt/conda/lib/python3.7/site-packages/ray/train/base_trainer.py\", line 460, in _trainable_func\n",
      "\u001b[2m\u001b[36m(TorchTrainer pid=2734)\u001b[0m     super()._trainable_func(self._merged_config, reporter, checkpoint_dir)\n",
      "\u001b[2m\u001b[36m(TorchTrainer pid=2734)\u001b[0m   File \"/opt/conda/lib/python3.7/site-packages/ray/tune/trainable/function_trainable.py\", line 684, in _trainable_func\n",
      "\u001b[2m\u001b[36m(TorchTrainer pid=2734)\u001b[0m     output = fn()\n",
      "\u001b[2m\u001b[36m(TorchTrainer pid=2734)\u001b[0m   File \"/opt/conda/lib/python3.7/site-packages/ray/train/base_trainer.py\", line 375, in train_func\n",
      "\u001b[2m\u001b[36m(TorchTrainer pid=2734)\u001b[0m     trainer.training_loop()\n",
      "\u001b[2m\u001b[36m(TorchTrainer pid=2734)\u001b[0m   File \"/opt/conda/lib/python3.7/site-packages/ray/train/data_parallel_trainer.py\", line 358, in training_loop\n",
      "\u001b[2m\u001b[36m(TorchTrainer pid=2734)\u001b[0m     for results in training_iterator:\n",
      "\u001b[2m\u001b[36m(TorchTrainer pid=2734)\u001b[0m   File \"/opt/conda/lib/python3.7/site-packages/ray/train/trainer.py\", line 762, in __next__\n",
      "\u001b[2m\u001b[36m(TorchTrainer pid=2734)\u001b[0m     self._finish_training\n",
      "\u001b[2m\u001b[36m(TorchTrainer pid=2734)\u001b[0m   File \"/opt/conda/lib/python3.7/site-packages/ray/train/trainer.py\", line 722, in _run_with_error_handling\n",
      "\u001b[2m\u001b[36m(TorchTrainer pid=2734)\u001b[0m     return func()\n",
      "\u001b[2m\u001b[36m(TorchTrainer pid=2734)\u001b[0m   File \"/opt/conda/lib/python3.7/site-packages/ray/train/trainer.py\", line 833, in _finish_training\n",
      "\u001b[2m\u001b[36m(TorchTrainer pid=2734)\u001b[0m     return self._backend_executor.finish_training()\n",
      "\u001b[2m\u001b[36m(TorchTrainer pid=2734)\u001b[0m   File \"/opt/conda/lib/python3.7/site-packages/ray/train/_internal/backend_executor.py\", line 458, in finish_training\n",
      "\u001b[2m\u001b[36m(TorchTrainer pid=2734)\u001b[0m     results = self.get_with_failure_handling(futures)\n",
      "\u001b[2m\u001b[36m(TorchTrainer pid=2734)\u001b[0m   File \"/opt/conda/lib/python3.7/site-packages/ray/train/_internal/backend_executor.py\", line 477, in get_with_failure_handling\n",
      "\u001b[2m\u001b[36m(TorchTrainer pid=2734)\u001b[0m     success = check_for_failure(remote_values)\n",
      "\u001b[2m\u001b[36m(TorchTrainer pid=2734)\u001b[0m   File \"/opt/conda/lib/python3.7/site-packages/ray/train/_internal/utils.py\", line 52, in check_for_failure\n",
      "\u001b[2m\u001b[36m(TorchTrainer pid=2734)\u001b[0m     ray.get(object_ref)\n",
      "\u001b[2m\u001b[36m(TorchTrainer pid=2734)\u001b[0m   File \"/opt/conda/lib/python3.7/site-packages/ray/_private/client_mode_hook.py\", line 105, in wrapper\n",
      "\u001b[2m\u001b[36m(TorchTrainer pid=2734)\u001b[0m     return func(*args, **kwargs)\n",
      "\u001b[2m\u001b[36m(TorchTrainer pid=2734)\u001b[0m   File \"/opt/conda/lib/python3.7/site-packages/ray/_private/worker.py\", line 2275, in get\n",
      "\u001b[2m\u001b[36m(TorchTrainer pid=2734)\u001b[0m     raise value.as_instanceof_cause()\n",
      "\u001b[2m\u001b[36m(TorchTrainer pid=2734)\u001b[0m ray.exceptions.RayTaskError(OverflowError): \u001b[36mray::RayTrainWorker._RayTrainWorker__execute()\u001b[39m (pid=2768, ip=10.42.90.206, repr=<ray.train._internal.worker_group.RayTrainWorker object at 0x7f0309517350>)\n",
      "\u001b[2m\u001b[36m(TorchTrainer pid=2734)\u001b[0m   File \"/opt/conda/lib/python3.7/site-packages/ray/train/_internal/worker_group.py\", line 26, in __execute\n",
      "\u001b[2m\u001b[36m(TorchTrainer pid=2734)\u001b[0m     return func(*args, **kwargs)\n",
      "\u001b[2m\u001b[36m(TorchTrainer pid=2734)\u001b[0m   File \"/opt/conda/lib/python3.7/site-packages/ray/train/_internal/backend_executor.py\", line 449, in end_training\n",
      "\u001b[2m\u001b[36m(TorchTrainer pid=2734)\u001b[0m     output = session.finish()\n",
      "\u001b[2m\u001b[36m(TorchTrainer pid=2734)\u001b[0m   File \"/opt/conda/lib/python3.7/site-packages/ray/train/_internal/session.py\", line 140, in finish\n",
      "\u001b[2m\u001b[36m(TorchTrainer pid=2734)\u001b[0m     func_output = self.training_thread.join()\n",
      "\u001b[2m\u001b[36m(TorchTrainer pid=2734)\u001b[0m   File \"/opt/conda/lib/python3.7/site-packages/ray/train/_internal/utils.py\", line 98, in join\n",
      "\u001b[2m\u001b[36m(TorchTrainer pid=2734)\u001b[0m     raise self.exc\n",
      "\u001b[2m\u001b[36m(TorchTrainer pid=2734)\u001b[0m   File \"/opt/conda/lib/python3.7/site-packages/ray/train/_internal/utils.py\", line 91, in run\n",
      "\u001b[2m\u001b[36m(TorchTrainer pid=2734)\u001b[0m     self.ret = self._target(*self._args, **self._kwargs)\n",
      "\u001b[2m\u001b[36m(TorchTrainer pid=2734)\u001b[0m   File \"/opt/conda/lib/python3.7/site-packages/ray/train/_internal/utils.py\", line 155, in <lambda>\n",
      "\u001b[2m\u001b[36m(TorchTrainer pid=2734)\u001b[0m     return lambda: wrapped_train_func(config)\n",
      "\u001b[2m\u001b[36m(TorchTrainer pid=2734)\u001b[0m   File \"/opt/conda/lib/python3.7/site-packages/ray/train/_internal/utils.py\", line 141, in discard_return_wrapper\n",
      "\u001b[2m\u001b[36m(TorchTrainer pid=2734)\u001b[0m     train_func(*args, **kwargs)\n",
      "\u001b[2m\u001b[36m(TorchTrainer pid=2734)\u001b[0m   File \"/opt/conda/lib/python3.7/site-packages/metorch/train.py\", line 72, in train\n",
      "\u001b[2m\u001b[36m(TorchTrainer pid=2734)\u001b[0m     session.report({'training_loss':training_loss, 'validation_loss':validation_loss, 'validation_metric':validation_metric}, checkpoint=checkpoint)\n",
      "\u001b[2m\u001b[36m(TorchTrainer pid=2734)\u001b[0m   File \"/opt/conda/lib/python3.7/site-packages/ray/air/session.py\", line 61, in report\n",
      "\u001b[2m\u001b[36m(TorchTrainer pid=2734)\u001b[0m     _get_session().report(metrics, checkpoint=checkpoint)\n",
      "\u001b[2m\u001b[36m(TorchTrainer pid=2734)\u001b[0m   File \"/opt/conda/lib/python3.7/site-packages/ray/train/session.py\", line 26, in report\n",
      "\u001b[2m\u001b[36m(TorchTrainer pid=2734)\u001b[0m     self._session.report(metrics, checkpoint)\n",
      "\u001b[2m\u001b[36m(TorchTrainer pid=2734)\u001b[0m   File \"/opt/conda/lib/python3.7/site-packages/ray/train/_internal/session.py\", line 265, in report\n",
      "\u001b[2m\u001b[36m(TorchTrainer pid=2734)\u001b[0m     self.checkpoint(**checkpoint_dict)\n",
      "\u001b[2m\u001b[36m(TorchTrainer pid=2734)\u001b[0m   File \"/opt/conda/lib/python3.7/site-packages/ray/train/_internal/session.py\", line 251, in checkpoint\n",
      "\u001b[2m\u001b[36m(TorchTrainer pid=2734)\u001b[0m     kwargs = self._encode_data_fn(self._auto_fill_checkpoint_metrics(kwargs))\n",
      "\u001b[2m\u001b[36m(TorchTrainer pid=2734)\u001b[0m   File \"/opt/conda/lib/python3.7/site-packages/ray/train/torch/config.py\", line 178, in encode_data\n",
      "\u001b[2m\u001b[36m(TorchTrainer pid=2734)\u001b[0m     torch.save(data_dict, _buffer)\n",
      "\u001b[2m\u001b[36m(TorchTrainer pid=2734)\u001b[0m   File \"/opt/conda/lib/python3.7/site-packages/torch/serialization.py\", line 379, in save\n",
      "\u001b[2m\u001b[36m(TorchTrainer pid=2734)\u001b[0m     _save(obj, opened_zipfile, pickle_module, pickle_protocol)\n",
      "\u001b[2m\u001b[36m(TorchTrainer pid=2734)\u001b[0m   File \"/opt/conda/lib/python3.7/site-packages/torch/serialization.py\", line 484, in _save\n",
      "\u001b[2m\u001b[36m(TorchTrainer pid=2734)\u001b[0m     pickler.dump(obj)\n",
      "\u001b[2m\u001b[36m(TorchTrainer pid=2734)\u001b[0m OverflowError: cannot serialize a string larger than 4GiB\n",
      "2022-09-10 17:41:30,016\tERROR trial_runner.py:980 -- Trial TorchTrainer_86006_00000: Error processing event.\n",
      "ray.exceptions.RayTaskError(OverflowError): \u001b[36mray::TrainTrainable.train()\u001b[39m (pid=2734, ip=10.42.90.206, repr=TorchTrainer)\n",
      "  File \"/opt/conda/lib/python3.7/site-packages/ray/tune/trainable/trainable.py\", line 347, in train\n",
      "    result = self.step()\n",
      "  File \"/opt/conda/lib/python3.7/site-packages/ray/tune/trainable/function_trainable.py\", line 417, in step\n",
      "    self._report_thread_runner_error(block=True)\n",
      "  File \"/opt/conda/lib/python3.7/site-packages/ray/tune/trainable/function_trainable.py\", line 589, in _report_thread_runner_error\n",
      "    raise e\n",
      "  File \"/opt/conda/lib/python3.7/site-packages/ray/tune/trainable/function_trainable.py\", line 289, in run\n",
      "    self._entrypoint()\n",
      "  File \"/opt/conda/lib/python3.7/site-packages/ray/tune/trainable/function_trainable.py\", line 365, in entrypoint\n",
      "    self._status_reporter.get_checkpoint(),\n",
      "  File \"/opt/conda/lib/python3.7/site-packages/ray/train/base_trainer.py\", line 460, in _trainable_func\n",
      "    super()._trainable_func(self._merged_config, reporter, checkpoint_dir)\n",
      "  File \"/opt/conda/lib/python3.7/site-packages/ray/tune/trainable/function_trainable.py\", line 684, in _trainable_func\n",
      "    output = fn()\n",
      "  File \"/opt/conda/lib/python3.7/site-packages/ray/train/base_trainer.py\", line 375, in train_func\n",
      "    trainer.training_loop()\n",
      "  File \"/opt/conda/lib/python3.7/site-packages/ray/train/data_parallel_trainer.py\", line 358, in training_loop\n",
      "    for results in training_iterator:\n",
      "  File \"/opt/conda/lib/python3.7/site-packages/ray/train/trainer.py\", line 762, in __next__\n",
      "    self._finish_training\n",
      "  File \"/opt/conda/lib/python3.7/site-packages/ray/train/trainer.py\", line 722, in _run_with_error_handling\n",
      "    return func()\n",
      "  File \"/opt/conda/lib/python3.7/site-packages/ray/train/trainer.py\", line 833, in _finish_training\n",
      "    return self._backend_executor.finish_training()\n",
      "  File \"/opt/conda/lib/python3.7/site-packages/ray/train/_internal/backend_executor.py\", line 458, in finish_training\n",
      "    results = self.get_with_failure_handling(futures)\n",
      "  File \"/opt/conda/lib/python3.7/site-packages/ray/train/_internal/backend_executor.py\", line 477, in get_with_failure_handling\n",
      "    success = check_for_failure(remote_values)\n",
      "  File \"/opt/conda/lib/python3.7/site-packages/ray/train/_internal/utils.py\", line 52, in check_for_failure\n",
      "    ray.get(object_ref)\n",
      "ray.exceptions.RayTaskError(OverflowError): \u001b[36mray::RayTrainWorker._RayTrainWorker__execute()\u001b[39m (pid=2768, ip=10.42.90.206, repr=<ray.train._internal.worker_group.RayTrainWorker object at 0x7f0309517350>)\n",
      "  File \"/opt/conda/lib/python3.7/site-packages/ray/train/_internal/worker_group.py\", line 26, in __execute\n",
      "    return func(*args, **kwargs)\n",
      "  File \"/opt/conda/lib/python3.7/site-packages/ray/train/_internal/backend_executor.py\", line 449, in end_training\n",
      "    output = session.finish()\n",
      "  File \"/opt/conda/lib/python3.7/site-packages/ray/train/_internal/session.py\", line 140, in finish\n",
      "    func_output = self.training_thread.join()\n",
      "  File \"/opt/conda/lib/python3.7/site-packages/ray/train/_internal/utils.py\", line 98, in join\n",
      "    raise self.exc\n",
      "  File \"/opt/conda/lib/python3.7/site-packages/ray/train/_internal/utils.py\", line 91, in run\n",
      "    self.ret = self._target(*self._args, **self._kwargs)\n",
      "  File \"/opt/conda/lib/python3.7/site-packages/ray/train/_internal/utils.py\", line 155, in <lambda>\n",
      "    return lambda: wrapped_train_func(config)\n",
      "  File \"/opt/conda/lib/python3.7/site-packages/ray/train/_internal/utils.py\", line 141, in discard_return_wrapper\n",
      "    train_func(*args, **kwargs)\n",
      "  File \"/opt/conda/lib/python3.7/site-packages/metorch/train.py\", line 72, in train\n",
      "    session.report({'training_loss':training_loss, 'validation_loss':validation_loss, 'validation_metric':validation_metric}, checkpoint=checkpoint)\n",
      "  File \"/opt/conda/lib/python3.7/site-packages/ray/air/session.py\", line 61, in report\n",
      "    _get_session().report(metrics, checkpoint=checkpoint)\n",
      "  File \"/opt/conda/lib/python3.7/site-packages/ray/train/session.py\", line 26, in report\n",
      "    self._session.report(metrics, checkpoint)\n",
      "  File \"/opt/conda/lib/python3.7/site-packages/ray/train/_internal/session.py\", line 265, in report\n",
      "    self.checkpoint(**checkpoint_dict)\n",
      "  File \"/opt/conda/lib/python3.7/site-packages/ray/train/_internal/session.py\", line 251, in checkpoint\n",
      "    kwargs = self._encode_data_fn(self._auto_fill_checkpoint_metrics(kwargs))\n",
      "  File \"/opt/conda/lib/python3.7/site-packages/ray/train/torch/config.py\", line 178, in encode_data\n",
      "    torch.save(data_dict, _buffer)\n",
      "  File \"/opt/conda/lib/python3.7/site-packages/torch/serialization.py\", line 379, in save\n",
      "    _save(obj, opened_zipfile, pickle_module, pickle_protocol)\n",
      "  File \"/opt/conda/lib/python3.7/site-packages/torch/serialization.py\", line 484, in _save\n",
      "    pickler.dump(obj)\n",
      "OverflowError: cannot serialize a string larger than 4GiB\n"
     ]
    },
    {
     "name": "stdout",
     "output_type": "stream",
     "text": [
      "Result for TorchTrainer_86006_00000:\n",
      "  date: 2022-09-10_17-39-33\n",
      "  experiment_id: b9d36b87902944af8b5ef8d458429d8d\n",
      "  hostname: n222fua9zr\n",
      "  node_ip: 10.42.90.206\n",
      "  pid: 2734\n",
      "  timestamp: 1662831573\n",
      "  trial_id: '86006_00000'\n",
      "  \n"
     ]
    },
    {
     "name": "stderr",
     "output_type": "stream",
     "text": [
      "2022-09-10 17:41:30,143\tERROR tune.py:754 -- Trials did not complete: [TorchTrainer_86006_00000]\n",
      "2022-09-10 17:41:30,144\tINFO tune.py:759 -- Total run time: 120.21 seconds (119.80 seconds for the tuning loop).\n"
     ]
    },
    {
     "ename": "RayTaskError(OverflowError)",
     "evalue": "\u001b[36mray::TrainTrainable.train()\u001b[39m (pid=2734, ip=10.42.90.206, repr=TorchTrainer)\n  File \"/opt/conda/lib/python3.7/site-packages/ray/tune/trainable/trainable.py\", line 347, in train\n    result = self.step()\n  File \"/opt/conda/lib/python3.7/site-packages/ray/tune/trainable/function_trainable.py\", line 417, in step\n    self._report_thread_runner_error(block=True)\n  File \"/opt/conda/lib/python3.7/site-packages/ray/tune/trainable/function_trainable.py\", line 589, in _report_thread_runner_error\n    raise e\n  File \"/opt/conda/lib/python3.7/site-packages/ray/tune/trainable/function_trainable.py\", line 289, in run\n    self._entrypoint()\n  File \"/opt/conda/lib/python3.7/site-packages/ray/tune/trainable/function_trainable.py\", line 365, in entrypoint\n    self._status_reporter.get_checkpoint(),\n  File \"/opt/conda/lib/python3.7/site-packages/ray/train/base_trainer.py\", line 460, in _trainable_func\n    super()._trainable_func(self._merged_config, reporter, checkpoint_dir)\n  File \"/opt/conda/lib/python3.7/site-packages/ray/tune/trainable/function_trainable.py\", line 684, in _trainable_func\n    output = fn()\n  File \"/opt/conda/lib/python3.7/site-packages/ray/train/base_trainer.py\", line 375, in train_func\n    trainer.training_loop()\n  File \"/opt/conda/lib/python3.7/site-packages/ray/train/data_parallel_trainer.py\", line 358, in training_loop\n    for results in training_iterator:\n  File \"/opt/conda/lib/python3.7/site-packages/ray/train/trainer.py\", line 762, in __next__\n    self._finish_training\n  File \"/opt/conda/lib/python3.7/site-packages/ray/train/trainer.py\", line 722, in _run_with_error_handling\n    return func()\n  File \"/opt/conda/lib/python3.7/site-packages/ray/train/trainer.py\", line 833, in _finish_training\n    return self._backend_executor.finish_training()\n  File \"/opt/conda/lib/python3.7/site-packages/ray/train/_internal/backend_executor.py\", line 458, in finish_training\n    results = self.get_with_failure_handling(futures)\n  File \"/opt/conda/lib/python3.7/site-packages/ray/train/_internal/backend_executor.py\", line 477, in get_with_failure_handling\n    success = check_for_failure(remote_values)\n  File \"/opt/conda/lib/python3.7/site-packages/ray/train/_internal/utils.py\", line 52, in check_for_failure\n    ray.get(object_ref)\nray.exceptions.RayTaskError(OverflowError): \u001b[36mray::RayTrainWorker._RayTrainWorker__execute()\u001b[39m (pid=2768, ip=10.42.90.206, repr=<ray.train._internal.worker_group.RayTrainWorker object at 0x7f0309517350>)\n  File \"/opt/conda/lib/python3.7/site-packages/ray/train/_internal/worker_group.py\", line 26, in __execute\n    return func(*args, **kwargs)\n  File \"/opt/conda/lib/python3.7/site-packages/ray/train/_internal/backend_executor.py\", line 449, in end_training\n    output = session.finish()\n  File \"/opt/conda/lib/python3.7/site-packages/ray/train/_internal/session.py\", line 140, in finish\n    func_output = self.training_thread.join()\n  File \"/opt/conda/lib/python3.7/site-packages/ray/train/_internal/utils.py\", line 98, in join\n    raise self.exc\n  File \"/opt/conda/lib/python3.7/site-packages/ray/train/_internal/utils.py\", line 91, in run\n    self.ret = self._target(*self._args, **self._kwargs)\n  File \"/opt/conda/lib/python3.7/site-packages/ray/train/_internal/utils.py\", line 155, in <lambda>\n    return lambda: wrapped_train_func(config)\n  File \"/opt/conda/lib/python3.7/site-packages/ray/train/_internal/utils.py\", line 141, in discard_return_wrapper\n    train_func(*args, **kwargs)\n  File \"/opt/conda/lib/python3.7/site-packages/metorch/train.py\", line 72, in train\n    session.report({'training_loss':training_loss, 'validation_loss':validation_loss, 'validation_metric':validation_metric}, checkpoint=checkpoint)\n  File \"/opt/conda/lib/python3.7/site-packages/ray/air/session.py\", line 61, in report\n    _get_session().report(metrics, checkpoint=checkpoint)\n  File \"/opt/conda/lib/python3.7/site-packages/ray/train/session.py\", line 26, in report\n    self._session.report(metrics, checkpoint)\n  File \"/opt/conda/lib/python3.7/site-packages/ray/train/_internal/session.py\", line 265, in report\n    self.checkpoint(**checkpoint_dict)\n  File \"/opt/conda/lib/python3.7/site-packages/ray/train/_internal/session.py\", line 251, in checkpoint\n    kwargs = self._encode_data_fn(self._auto_fill_checkpoint_metrics(kwargs))\n  File \"/opt/conda/lib/python3.7/site-packages/ray/train/torch/config.py\", line 178, in encode_data\n    torch.save(data_dict, _buffer)\n  File \"/opt/conda/lib/python3.7/site-packages/torch/serialization.py\", line 379, in save\n    _save(obj, opened_zipfile, pickle_module, pickle_protocol)\n  File \"/opt/conda/lib/python3.7/site-packages/torch/serialization.py\", line 484, in _save\n    pickler.dump(obj)\nOverflowError: cannot serialize a string larger than 4GiB",
     "output_type": "error",
     "traceback": [
      "\u001b[0;31m---------------------------------------------------------------------------\u001b[0m",
      "\u001b[0;31mRayTaskError(OverflowError)\u001b[0m               Traceback (most recent call last)",
      "\u001b[0;32m/tmp/ipykernel_2433/1506273076.py\u001b[0m in \u001b[0;36m<module>\u001b[0;34m\u001b[0m\n\u001b[1;32m     19\u001b[0m     run_config=run_config)\n\u001b[1;32m     20\u001b[0m \u001b[0;34m\u001b[0m\u001b[0m\n\u001b[0;32m---> 21\u001b[0;31m \u001b[0mresults\u001b[0m \u001b[0;34m=\u001b[0m \u001b[0mtrainer\u001b[0m\u001b[0;34m.\u001b[0m\u001b[0mfit\u001b[0m\u001b[0;34m(\u001b[0m\u001b[0;34m)\u001b[0m\u001b[0;34m\u001b[0m\u001b[0;34m\u001b[0m\u001b[0m\n\u001b[0m",
      "\u001b[0;32m/opt/conda/lib/python3.7/site-packages/ray/train/base_trainer.py\u001b[0m in \u001b[0;36mfit\u001b[0;34m(self)\u001b[0m\n\u001b[1;32m    347\u001b[0m             \u001b[0mresult\u001b[0m \u001b[0;34m=\u001b[0m \u001b[0mresult_grid\u001b[0m\u001b[0;34m[\u001b[0m\u001b[0;36m0\u001b[0m\u001b[0;34m]\u001b[0m\u001b[0;34m\u001b[0m\u001b[0;34m\u001b[0m\u001b[0m\n\u001b[1;32m    348\u001b[0m             \u001b[0;32mif\u001b[0m \u001b[0mresult\u001b[0m\u001b[0;34m.\u001b[0m\u001b[0merror\u001b[0m\u001b[0;34m:\u001b[0m\u001b[0;34m\u001b[0m\u001b[0;34m\u001b[0m\u001b[0m\n\u001b[0;32m--> 349\u001b[0;31m                 \u001b[0;32mraise\u001b[0m \u001b[0mresult\u001b[0m\u001b[0;34m.\u001b[0m\u001b[0merror\u001b[0m\u001b[0;34m\u001b[0m\u001b[0;34m\u001b[0m\u001b[0m\n\u001b[0m\u001b[1;32m    350\u001b[0m         \u001b[0;32mexcept\u001b[0m \u001b[0mTuneError\u001b[0m \u001b[0;32mas\u001b[0m \u001b[0me\u001b[0m\u001b[0;34m:\u001b[0m\u001b[0;34m\u001b[0m\u001b[0;34m\u001b[0m\u001b[0m\n\u001b[1;32m    351\u001b[0m             \u001b[0;32mraise\u001b[0m \u001b[0mTrainingFailedError\u001b[0m \u001b[0;32mfrom\u001b[0m \u001b[0me\u001b[0m\u001b[0;34m\u001b[0m\u001b[0;34m\u001b[0m\u001b[0m\n",
      "\u001b[0;31mRayTaskError(OverflowError)\u001b[0m: \u001b[36mray::TrainTrainable.train()\u001b[39m (pid=2734, ip=10.42.90.206, repr=TorchTrainer)\n  File \"/opt/conda/lib/python3.7/site-packages/ray/tune/trainable/trainable.py\", line 347, in train\n    result = self.step()\n  File \"/opt/conda/lib/python3.7/site-packages/ray/tune/trainable/function_trainable.py\", line 417, in step\n    self._report_thread_runner_error(block=True)\n  File \"/opt/conda/lib/python3.7/site-packages/ray/tune/trainable/function_trainable.py\", line 589, in _report_thread_runner_error\n    raise e\n  File \"/opt/conda/lib/python3.7/site-packages/ray/tune/trainable/function_trainable.py\", line 289, in run\n    self._entrypoint()\n  File \"/opt/conda/lib/python3.7/site-packages/ray/tune/trainable/function_trainable.py\", line 365, in entrypoint\n    self._status_reporter.get_checkpoint(),\n  File \"/opt/conda/lib/python3.7/site-packages/ray/train/base_trainer.py\", line 460, in _trainable_func\n    super()._trainable_func(self._merged_config, reporter, checkpoint_dir)\n  File \"/opt/conda/lib/python3.7/site-packages/ray/tune/trainable/function_trainable.py\", line 684, in _trainable_func\n    output = fn()\n  File \"/opt/conda/lib/python3.7/site-packages/ray/train/base_trainer.py\", line 375, in train_func\n    trainer.training_loop()\n  File \"/opt/conda/lib/python3.7/site-packages/ray/train/data_parallel_trainer.py\", line 358, in training_loop\n    for results in training_iterator:\n  File \"/opt/conda/lib/python3.7/site-packages/ray/train/trainer.py\", line 762, in __next__\n    self._finish_training\n  File \"/opt/conda/lib/python3.7/site-packages/ray/train/trainer.py\", line 722, in _run_with_error_handling\n    return func()\n  File \"/opt/conda/lib/python3.7/site-packages/ray/train/trainer.py\", line 833, in _finish_training\n    return self._backend_executor.finish_training()\n  File \"/opt/conda/lib/python3.7/site-packages/ray/train/_internal/backend_executor.py\", line 458, in finish_training\n    results = self.get_with_failure_handling(futures)\n  File \"/opt/conda/lib/python3.7/site-packages/ray/train/_internal/backend_executor.py\", line 477, in get_with_failure_handling\n    success = check_for_failure(remote_values)\n  File \"/opt/conda/lib/python3.7/site-packages/ray/train/_internal/utils.py\", line 52, in check_for_failure\n    ray.get(object_ref)\nray.exceptions.RayTaskError(OverflowError): \u001b[36mray::RayTrainWorker._RayTrainWorker__execute()\u001b[39m (pid=2768, ip=10.42.90.206, repr=<ray.train._internal.worker_group.RayTrainWorker object at 0x7f0309517350>)\n  File \"/opt/conda/lib/python3.7/site-packages/ray/train/_internal/worker_group.py\", line 26, in __execute\n    return func(*args, **kwargs)\n  File \"/opt/conda/lib/python3.7/site-packages/ray/train/_internal/backend_executor.py\", line 449, in end_training\n    output = session.finish()\n  File \"/opt/conda/lib/python3.7/site-packages/ray/train/_internal/session.py\", line 140, in finish\n    func_output = self.training_thread.join()\n  File \"/opt/conda/lib/python3.7/site-packages/ray/train/_internal/utils.py\", line 98, in join\n    raise self.exc\n  File \"/opt/conda/lib/python3.7/site-packages/ray/train/_internal/utils.py\", line 91, in run\n    self.ret = self._target(*self._args, **self._kwargs)\n  File \"/opt/conda/lib/python3.7/site-packages/ray/train/_internal/utils.py\", line 155, in <lambda>\n    return lambda: wrapped_train_func(config)\n  File \"/opt/conda/lib/python3.7/site-packages/ray/train/_internal/utils.py\", line 141, in discard_return_wrapper\n    train_func(*args, **kwargs)\n  File \"/opt/conda/lib/python3.7/site-packages/metorch/train.py\", line 72, in train\n    session.report({'training_loss':training_loss, 'validation_loss':validation_loss, 'validation_metric':validation_metric}, checkpoint=checkpoint)\n  File \"/opt/conda/lib/python3.7/site-packages/ray/air/session.py\", line 61, in report\n    _get_session().report(metrics, checkpoint=checkpoint)\n  File \"/opt/conda/lib/python3.7/site-packages/ray/train/session.py\", line 26, in report\n    self._session.report(metrics, checkpoint)\n  File \"/opt/conda/lib/python3.7/site-packages/ray/train/_internal/session.py\", line 265, in report\n    self.checkpoint(**checkpoint_dict)\n  File \"/opt/conda/lib/python3.7/site-packages/ray/train/_internal/session.py\", line 251, in checkpoint\n    kwargs = self._encode_data_fn(self._auto_fill_checkpoint_metrics(kwargs))\n  File \"/opt/conda/lib/python3.7/site-packages/ray/train/torch/config.py\", line 178, in encode_data\n    torch.save(data_dict, _buffer)\n  File \"/opt/conda/lib/python3.7/site-packages/torch/serialization.py\", line 379, in save\n    _save(obj, opened_zipfile, pickle_module, pickle_protocol)\n  File \"/opt/conda/lib/python3.7/site-packages/torch/serialization.py\", line 484, in _save\n    pickler.dump(obj)\nOverflowError: cannot serialize a string larger than 4GiB"
     ]
    }
   ],
   "source": [
    "# FIXME - OverflowError: cannot serialize a string larger than 4GiB (Error while saving the model)\n",
    "# from ray.train.torch import TorchTrainer\n",
    "# from ray.air.config import ScalingConfig, CheckpointConfig, RunConfig\n",
    "\n",
    "\n",
    "# from metorch.train import train\n",
    "\n",
    "# run_config = RunConfig(\n",
    "#     local_dir=config['results_dir'], \n",
    "#     checkpoint_config=CheckpointConfig(num_to_keep=1))\n",
    "# scaling_config=ScalingConfig(\n",
    "#     num_workers=1, \n",
    "#     use_gpu=True, \n",
    "#     resources_per_worker={'CPU' :1, 'GPU': 1})\n",
    "\n",
    "# trainer = TorchTrainer(\n",
    "#     train, \n",
    "#     train_loop_config=config, \n",
    "#     scaling_config=scaling_config, \n",
    "#     run_config=run_config)\n",
    "\n",
    "# results = trainer.fit()"
   ]
  },
  {
   "cell_type": "code",
   "execution_count": 3,
   "id": "2507d85e-b588-41df-a18d-dc7627d881f1",
   "metadata": {
    "execution": {
     "iopub.execute_input": "2022-09-10T18:14:24.752798Z",
     "iopub.status.busy": "2022-09-10T18:14:24.752533Z",
     "iopub.status.idle": "2022-09-10T18:36:00.774345Z",
     "shell.execute_reply": "2022-09-10T18:36:00.773059Z",
     "shell.execute_reply.started": "2022-09-10T18:14:24.752766Z"
    }
   },
   "outputs": [
    {
     "name": "stdout",
     "output_type": "stream",
     "text": [
      "Files already downloaded and verified\n",
      "Init loss:  2.309780995304973\n",
      "Epoch: 0 Training loss: 2.1217980769495615  Validation loss: 1.8779811542245406 Validation metric: 0.27668566838644787\n",
      "Epoch: 1 Training loss: 1.7013705888876138  Validation loss: 1.5545932824098612 Validation metric: 0.4023236057604257\n",
      "Epoch: 2 Training loss: 1.4585841943661626  Validation loss: 1.3765415783169903 Validation metric: 0.48170198578795476\n",
      "Epoch: 3 Training loss: 1.3148886212906516  Validation loss: 1.244624259351175 Validation metric: 0.5420220417700005\n",
      "Epoch: 4 Training loss: 1.1977621516861474  Validation loss: 1.1616424148595785 Validation metric: 0.5750893374345842\n",
      "Epoch: 5 Training loss: 1.0898273842403303  Validation loss: 1.1125543034529384 Validation metric: 0.5911957626789411\n",
      "Epoch: 6 Training loss: 1.0270658411537876  Validation loss: 1.039276382591151 Validation metric: 0.6240077497430566\n",
      "Epoch: 7 Training loss: 0.9543905174389434  Validation loss: 0.9698334374005282 Validation metric: 0.6469589300872636\n",
      "Epoch: 8 Training loss: 0.8990216649378451  Validation loss: 0.9786595724806001 Validation metric: 0.6380457206443314\n",
      "Epoch: 9 Training loss: 0.8320065811038398  Validation loss: 0.9193193769153161 Validation metric: 0.6622346526800273\n",
      "Epoch: 10 Training loss: 0.7753165116706214  Validation loss: 0.8776033196268203 Validation metric: 0.6785803771515857\n",
      "Epoch: 11 Training loss: 0.7209037648984038  Validation loss: 0.8511663992193681 Validation metric: 0.6929995047498866\n",
      "Epoch: 12 Training loss: 0.6707276194430769  Validation loss: 0.8426865973050082 Validation metric: 0.6947685559120965\n",
      "Epoch: 13 Training loss: 0.6297701876193952  Validation loss: 0.8321118200127082 Validation metric: 0.7002530317642632\n",
      "Epoch: 14 Training loss: 0.6022861924605628  Validation loss: 0.8743559054181546 Validation metric: 0.6892859382723157\n",
      "Epoch: 15 Training loss: 0.6019963237424247  Validation loss: 0.7785847368119638 Validation metric: 0.7234662857536822\n",
      "Epoch: 16 Training loss: 0.5526244860297194  Validation loss: 0.7900068344949167 Validation metric: 0.7242145619959182\n",
      "Epoch: 17 Training loss: 0.546356442732552  Validation loss: 0.8468328586107567 Validation metric: 0.7034790344828885\n",
      "Epoch: 18 Training loss: 0.5451535875804889  Validation loss: 0.8828470295743097 Validation metric: 0.6926258037004257\n",
      "Epoch: 19 Training loss: 0.5254509559454629  Validation loss: 0.8522687765616405 Validation metric: 0.705554232842188\n",
      "Epoch: 20 Training loss: 0.472628139459287  Validation loss: 0.8772678793985632 Validation metric: 0.6981971094020974\n",
      "Epoch: 21 Training loss: 0.4358952648628253  Validation loss: 0.8362354651282106 Validation metric: 0.707031522757758\n",
      "Epoch: 22 Training loss: 0.41628394563929344  Validation loss: 0.8431705719308008 Validation metric: 0.7309081032897266\n",
      "Epoch: 23 Training loss: 0.36363353768286233  Validation loss: 0.8399456460264665 Validation metric: 0.7256320559533851\n",
      "Epoch: 24 Training loss: 0.34418362374313344  Validation loss: 0.8891727592371688 Validation metric: 0.7112198868422175\n",
      "Epoch: 25 Training loss: 0.37271203767186917  Validation loss: 0.8846229876898513 Validation metric: 0.7149382216127484\n",
      "Epoch: 26 Training loss: 0.3375634938573685  Validation loss: 0.9523600415338443 Validation metric: 0.694596387122297\n",
      "Epoch: 27 Training loss: 0.3116783120761664  Validation loss: 0.9342818637437458 Validation metric: 0.7071134297577948\n",
      "Epoch: 28 Training loss: 0.2914389927213946  Validation loss: 0.9009240428103676 Validation metric: 0.7177426546619531\n",
      "Epoch: 29 Training loss: 0.21901845842742693  Validation loss: 0.8435961358909365 Validation metric: 0.7469752100293552\n",
      "Epoch: 30 Training loss: 0.18710145023398506  Validation loss: 0.947991054269332 Validation metric: 0.7256474881903654\n",
      "Epoch: 31 Training loss: 0.24686960785533674  Validation loss: 1.0731106962584243 Validation metric: 0.6782529147130424\n",
      "Epoch: 32 Training loss: 0.26500565318253855  Validation loss: 1.1377832504767407 Validation metric: 0.6790183519608499\n",
      "Epoch: 33 Training loss: 0.1895551519533887  Validation loss: 1.0491155506689338 Validation metric: 0.71439369024177\n",
      "Epoch: 34 Training loss: 0.1661489344657229  Validation loss: 1.1200884708875343 Validation metric: 0.7144830559153659\n",
      "Epoch: 35 Training loss: 0.21080850378964275  Validation loss: 1.0336892944348008 Validation metric: 0.7098818816830295\n",
      "Epoch: 36 Training loss: 0.17922892949332636  Validation loss: 1.0377690248851534 Validation metric: 0.7326296252519228\n",
      "Epoch: 37 Training loss: 0.15940570828918452  Validation loss: 1.0831793199611615 Validation metric: 0.7078783156448004\n",
      "Epoch: 38 Training loss: 0.1307523271765191  Validation loss: 1.1614287699325174 Validation metric: 0.7085461372671371\n",
      "Epoch: 39 Training loss: 0.11383778282914299  Validation loss: 1.1672208546837675 Validation metric: 0.7195015150728334\n",
      "Epoch: 40 Training loss: 0.16550954409872  Validation loss: 0.9685261121279076 Validation metric: 0.7353499271778272\n",
      "Epoch: 41 Training loss: 0.09602528075559642  Validation loss: 1.1337747468224055 Validation metric: 0.7401369307813433\n",
      "Epoch: 42 Training loss: 0.06987055923682622  Validation loss: 1.3238585349879688 Validation metric: 0.7207235428658506\n",
      "Epoch: 43 Training loss: 0.09759178550574726  Validation loss: 1.0938022721417342 Validation metric: 0.7450765936352767\n",
      "Epoch: 44 Training loss: 0.07830465706987694  Validation loss: 1.1834121014498458 Validation metric: 0.7341749851759244\n",
      "Epoch: 45 Training loss: 0.049522469108835  Validation loss: 1.1300294459620608 Validation metric: 0.7475732423366558\n",
      "Epoch: 46 Training loss: 0.024285567056286497  Validation loss: 1.110321564010427 Validation metric: 0.7541208884390842\n",
      "Epoch: 47 Training loss: 0.009051809817873917  Validation loss: 1.1985649587232856 Validation metric: 0.753254431984865\n",
      "Epoch: 48 Training loss: 0.0049990007717805075  Validation loss: 1.2529466363448132 Validation metric: 0.755758249474582\n",
      "Epoch: 49 Training loss: 0.0032304850326607022  Validation loss: 1.2371140122413635 Validation metric: 0.7611810952981859\n"
     ]
    },
    {
     "ename": "FileNotFoundError",
     "evalue": "[Errno 2] No such file or directory: 'notebooks/model.pth'",
     "output_type": "error",
     "traceback": [
      "\u001b[0;31m---------------------------------------------------------------------------\u001b[0m",
      "\u001b[0;31mFileNotFoundError\u001b[0m                         Traceback (most recent call last)",
      "\u001b[0;32m/tmp/ipykernel_3543/3999289093.py\u001b[0m in \u001b[0;36m<module>\u001b[0;34m\u001b[0m\n\u001b[1;32m     10\u001b[0m \u001b[0mconfig\u001b[0m\u001b[0;34m[\u001b[0m\u001b[0;34m'mode'\u001b[0m\u001b[0;34m]\u001b[0m \u001b[0;34m=\u001b[0m \u001b[0;34m'test'\u001b[0m\u001b[0;34m\u001b[0m\u001b[0;34m\u001b[0m\u001b[0m\n\u001b[1;32m     11\u001b[0m \u001b[0mmodel\u001b[0m \u001b[0;34m=\u001b[0m \u001b[0mNet\u001b[0m\u001b[0;34m(\u001b[0m\u001b[0;34m)\u001b[0m\u001b[0;34m\u001b[0m\u001b[0;34m\u001b[0m\u001b[0m\n\u001b[0;32m---> 12\u001b[0;31m \u001b[0mmodel\u001b[0m\u001b[0;34m.\u001b[0m\u001b[0mload_state_dict\u001b[0m\u001b[0;34m(\u001b[0m\u001b[0mtorch\u001b[0m\u001b[0;34m.\u001b[0m\u001b[0mload\u001b[0m\u001b[0;34m(\u001b[0m\u001b[0;34m'notebooks/model.pth'\u001b[0m\u001b[0;34m)\u001b[0m\u001b[0;34m)\u001b[0m\u001b[0;34m\u001b[0m\u001b[0;34m\u001b[0m\u001b[0m\n\u001b[0m\u001b[1;32m     13\u001b[0m \u001b[0mmodel\u001b[0m\u001b[0;34m.\u001b[0m\u001b[0meval\u001b[0m\u001b[0;34m(\u001b[0m\u001b[0;34m)\u001b[0m\u001b[0;34m\u001b[0m\u001b[0;34m\u001b[0m\u001b[0m\n\u001b[1;32m     14\u001b[0m \u001b[0mtest_loader\u001b[0m \u001b[0;34m=\u001b[0m \u001b[0mget_dataloaders\u001b[0m\u001b[0;34m(\u001b[0m\u001b[0mconfig\u001b[0m\u001b[0;34m)\u001b[0m\u001b[0;34m\u001b[0m\u001b[0;34m\u001b[0m\u001b[0m\n",
      "\u001b[0;32m/opt/conda/lib/python3.7/site-packages/torch/serialization.py\u001b[0m in \u001b[0;36mload\u001b[0;34m(f, map_location, pickle_module, **pickle_load_args)\u001b[0m\n\u001b[1;32m    592\u001b[0m         \u001b[0mpickle_load_args\u001b[0m\u001b[0;34m[\u001b[0m\u001b[0;34m'encoding'\u001b[0m\u001b[0;34m]\u001b[0m \u001b[0;34m=\u001b[0m \u001b[0;34m'utf-8'\u001b[0m\u001b[0;34m\u001b[0m\u001b[0;34m\u001b[0m\u001b[0m\n\u001b[1;32m    593\u001b[0m \u001b[0;34m\u001b[0m\u001b[0m\n\u001b[0;32m--> 594\u001b[0;31m     \u001b[0;32mwith\u001b[0m \u001b[0m_open_file_like\u001b[0m\u001b[0;34m(\u001b[0m\u001b[0mf\u001b[0m\u001b[0;34m,\u001b[0m \u001b[0;34m'rb'\u001b[0m\u001b[0;34m)\u001b[0m \u001b[0;32mas\u001b[0m \u001b[0mopened_file\u001b[0m\u001b[0;34m:\u001b[0m\u001b[0;34m\u001b[0m\u001b[0;34m\u001b[0m\u001b[0m\n\u001b[0m\u001b[1;32m    595\u001b[0m         \u001b[0;32mif\u001b[0m \u001b[0m_is_zipfile\u001b[0m\u001b[0;34m(\u001b[0m\u001b[0mopened_file\u001b[0m\u001b[0;34m)\u001b[0m\u001b[0;34m:\u001b[0m\u001b[0;34m\u001b[0m\u001b[0;34m\u001b[0m\u001b[0m\n\u001b[1;32m    596\u001b[0m             \u001b[0;31m# The zipfile reader is going to advance the current file position.\u001b[0m\u001b[0;34m\u001b[0m\u001b[0;34m\u001b[0m\u001b[0;34m\u001b[0m\u001b[0m\n",
      "\u001b[0;32m/opt/conda/lib/python3.7/site-packages/torch/serialization.py\u001b[0m in \u001b[0;36m_open_file_like\u001b[0;34m(name_or_buffer, mode)\u001b[0m\n\u001b[1;32m    228\u001b[0m \u001b[0;32mdef\u001b[0m \u001b[0m_open_file_like\u001b[0m\u001b[0;34m(\u001b[0m\u001b[0mname_or_buffer\u001b[0m\u001b[0;34m,\u001b[0m \u001b[0mmode\u001b[0m\u001b[0;34m)\u001b[0m\u001b[0;34m:\u001b[0m\u001b[0;34m\u001b[0m\u001b[0;34m\u001b[0m\u001b[0m\n\u001b[1;32m    229\u001b[0m     \u001b[0;32mif\u001b[0m \u001b[0m_is_path\u001b[0m\u001b[0;34m(\u001b[0m\u001b[0mname_or_buffer\u001b[0m\u001b[0;34m)\u001b[0m\u001b[0;34m:\u001b[0m\u001b[0;34m\u001b[0m\u001b[0;34m\u001b[0m\u001b[0m\n\u001b[0;32m--> 230\u001b[0;31m         \u001b[0;32mreturn\u001b[0m \u001b[0m_open_file\u001b[0m\u001b[0;34m(\u001b[0m\u001b[0mname_or_buffer\u001b[0m\u001b[0;34m,\u001b[0m \u001b[0mmode\u001b[0m\u001b[0;34m)\u001b[0m\u001b[0;34m\u001b[0m\u001b[0;34m\u001b[0m\u001b[0m\n\u001b[0m\u001b[1;32m    231\u001b[0m     \u001b[0;32melse\u001b[0m\u001b[0;34m:\u001b[0m\u001b[0;34m\u001b[0m\u001b[0;34m\u001b[0m\u001b[0m\n\u001b[1;32m    232\u001b[0m         \u001b[0;32mif\u001b[0m \u001b[0;34m'w'\u001b[0m \u001b[0;32min\u001b[0m \u001b[0mmode\u001b[0m\u001b[0;34m:\u001b[0m\u001b[0;34m\u001b[0m\u001b[0;34m\u001b[0m\u001b[0m\n",
      "\u001b[0;32m/opt/conda/lib/python3.7/site-packages/torch/serialization.py\u001b[0m in \u001b[0;36m__init__\u001b[0;34m(self, name, mode)\u001b[0m\n\u001b[1;32m    209\u001b[0m \u001b[0;32mclass\u001b[0m \u001b[0m_open_file\u001b[0m\u001b[0;34m(\u001b[0m\u001b[0m_opener\u001b[0m\u001b[0;34m)\u001b[0m\u001b[0;34m:\u001b[0m\u001b[0;34m\u001b[0m\u001b[0;34m\u001b[0m\u001b[0m\n\u001b[1;32m    210\u001b[0m     \u001b[0;32mdef\u001b[0m \u001b[0m__init__\u001b[0m\u001b[0;34m(\u001b[0m\u001b[0mself\u001b[0m\u001b[0;34m,\u001b[0m \u001b[0mname\u001b[0m\u001b[0;34m,\u001b[0m \u001b[0mmode\u001b[0m\u001b[0;34m)\u001b[0m\u001b[0;34m:\u001b[0m\u001b[0;34m\u001b[0m\u001b[0;34m\u001b[0m\u001b[0m\n\u001b[0;32m--> 211\u001b[0;31m         \u001b[0msuper\u001b[0m\u001b[0;34m(\u001b[0m\u001b[0m_open_file\u001b[0m\u001b[0;34m,\u001b[0m \u001b[0mself\u001b[0m\u001b[0;34m)\u001b[0m\u001b[0;34m.\u001b[0m\u001b[0m__init__\u001b[0m\u001b[0;34m(\u001b[0m\u001b[0mopen\u001b[0m\u001b[0;34m(\u001b[0m\u001b[0mname\u001b[0m\u001b[0;34m,\u001b[0m \u001b[0mmode\u001b[0m\u001b[0;34m)\u001b[0m\u001b[0;34m)\u001b[0m\u001b[0;34m\u001b[0m\u001b[0;34m\u001b[0m\u001b[0m\n\u001b[0m\u001b[1;32m    212\u001b[0m \u001b[0;34m\u001b[0m\u001b[0m\n\u001b[1;32m    213\u001b[0m     \u001b[0;32mdef\u001b[0m \u001b[0m__exit__\u001b[0m\u001b[0;34m(\u001b[0m\u001b[0mself\u001b[0m\u001b[0;34m,\u001b[0m \u001b[0;34m*\u001b[0m\u001b[0margs\u001b[0m\u001b[0;34m)\u001b[0m\u001b[0;34m:\u001b[0m\u001b[0;34m\u001b[0m\u001b[0;34m\u001b[0m\u001b[0m\n",
      "\u001b[0;31mFileNotFoundError\u001b[0m: [Errno 2] No such file or directory: 'notebooks/model.pth'"
     ]
    }
   ],
   "source": [
    "from metorch.train import train\n",
    "train(config)"
   ]
  },
  {
   "cell_type": "code",
   "execution_count": 8,
   "id": "0d561973-501b-40f5-a61c-4610e3bd0cbf",
   "metadata": {
    "execution": {
     "iopub.execute_input": "2022-09-10T19:02:52.049320Z",
     "iopub.status.busy": "2022-09-10T19:02:52.048675Z",
     "iopub.status.idle": "2022-09-10T19:02:56.358099Z",
     "shell.execute_reply": "2022-09-10T19:02:56.357374Z",
     "shell.execute_reply.started": "2022-09-10T19:02:52.049293Z"
    }
   },
   "outputs": [
    {
     "name": "stdout",
     "output_type": "stream",
     "text": [
      "Files already downloaded and verified\n",
      "1.3225405827353272 0.7599183251145724\n"
     ]
    }
   ],
   "source": [
    "import os\n",
    "from metorch.test import test\n",
    "from metorch.models import Net\n",
    "from metorch.utils import get_dataloaders\n",
    "\n",
    "device = torch.device(\"cuda\" if torch.cuda.is_available() else \"cpu\")\n",
    "config['mode'] = 'test'\n",
    "model = Net()\n",
    "model.load_state_dict(torch.load(os.path.join(config['results_dir'], 'model.pth')))\n",
    "model = model.to(device)\n",
    "model.eval()\n",
    "test_loader = get_dataloaders(config)\n",
    "test_loss, test_metric = test(model, nn.CrossEntropyLoss(), test_loader)\n",
    "print(test_loss, test_metric)"
   ]
  },
  {
   "cell_type": "code",
   "execution_count": 16,
   "id": "966b2f07-85f2-464a-a2eb-bd90cbbf81a1",
   "metadata": {
    "execution": {
     "iopub.execute_input": "2022-09-10T19:06:19.985270Z",
     "iopub.status.busy": "2022-09-10T19:06:19.984614Z",
     "iopub.status.idle": "2022-09-10T19:06:20.124971Z",
     "shell.execute_reply": "2022-09-10T19:06:20.124077Z",
     "shell.execute_reply.started": "2022-09-10T19:06:19.985243Z"
    }
   },
   "outputs": [
    {
     "data": {
      "text/plain": [
       "<AxesSubplot:>"
      ]
     },
     "execution_count": 16,
     "metadata": {},
     "output_type": "execute_result"
    },
    {
     "data": {
      "image/png": "[encoded data removed]",
      "text/plain": [
       "<Figure size 432x288 with 1 Axes>"
      ]
     },
     "metadata": {
      "needs_background": "light"
     },
     "output_type": "display_data"
    }
   ],
   "source": [
    "import seaborn\n",
    "import pandas as pd\n",
    "\n",
    "progress = pd.read_csv(os.path.join(config['results_dir'], 'progress.csv'))\n",
    "progress[' Training Loss'].plot()\n",
    "progress[' Validation Loss'].plot()\n",
    "progress[' Validation metric'].plot()"
   ]
  }
 ],
 "metadata": {
  "kernelspec": {
   "display_name": "Python 3 (ipykernel)",
   "language": "python",
   "name": "python3"
  },
  "language_info": {
   "codemirror_mode": {
    "name": "ipython",
    "version": 3
   },
   "file_extension": ".py",
   "mimetype": "text/x-python",
   "name": "python",
   "nbconvert_exporter": "python",
   "pygments_lexer": "ipython3",
   "version": "3.7.11"
  }
 },
 "nbformat": 4,
 "nbformat_minor": 5
}
